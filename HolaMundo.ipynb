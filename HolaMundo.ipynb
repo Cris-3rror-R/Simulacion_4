{
  "nbformat": 4,
  "nbformat_minor": 0,
  "metadata": {
    "colab": {
      "provenance": [],
      "authorship_tag": "ABX9TyOQKG2vSqyui12Tc0ctnkZZ",
      "include_colab_link": true
    },
    "kernelspec": {
      "name": "python3",
      "display_name": "Python 3"
    },
    "language_info": {
      "name": "python"
    }
  },
  "cells": [
    {
      "cell_type": "markdown",
      "metadata": {
        "id": "view-in-github",
        "colab_type": "text"
      },
      "source": [
        "<a href=\"https://colab.research.google.com/github/Cris-3rror-R/Simulacion_4/blob/main/HolaMundo.ipynb\" target=\"_parent\"><img src=\"https://colab.research.google.com/assets/colab-badge.svg\" alt=\"Open In Colab\"/></a>"
      ]
    },
    {
      "cell_type": "code",
      "execution_count": null,
      "metadata": {
        "id": "pJuu7S-hi3WS"
      },
      "outputs": [],
      "source": []
    },
    {
      "cell_type": "markdown",
      "source": [
        "***Mi programa HOLA MUNDO***"
      ],
      "metadata": {
        "id": "eUsaI4zji5vr"
      }
    },
    {
      "cell_type": "code",
      "source": [
        "print(\"Hola Mundo Cruel y Despiadao.\")\n"
      ],
      "metadata": {
        "colab": {
          "base_uri": "https://localhost:8080/"
        },
        "id": "pvlFgHDejL4W",
        "outputId": "57720f04-2590-4f32-a8f4-63bb68979eb6"
      },
      "execution_count": 3,
      "outputs": [
        {
          "output_type": "stream",
          "name": "stdout",
          "text": [
            "Hola Mundo Cruel y Despiadao.\n"
          ]
        }
      ]
    }
  ]
}