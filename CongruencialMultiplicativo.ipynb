{
  "nbformat": 4,
  "nbformat_minor": 0,
  "metadata": {
    "colab": {
      "provenance": [],
      "authorship_tag": "ABX9TyOB2av3JcMfikZgzhtsiywy"
    },
    "kernelspec": {
      "name": "python3",
      "display_name": "Python 3"
    },
    "language_info": {
      "name": "python"
    }
  },
  "cells": [
    {
      "cell_type": "markdown",
      "source": [
        "***Generación de números Pseudoaletorios por medio de Conguencial Multiplica***\n",
        "\n",
        "---"
      ],
      "metadata": {
        "id": "lG5q2_eYarBP"
      }
    },
    {
      "cell_type": "code",
      "execution_count": 7,
      "metadata": {
        "colab": {
          "base_uri": "https://localhost:8080/"
        },
        "collapsed": true,
        "id": "-l4576owDJl8",
        "outputId": "70bb9056-c153-4b13-a726-a7ef729f7c1c"
      },
      "outputs": [
        {
          "output_type": "stream",
          "name": "stdout",
          "text": [
            "Ingrese el factor:173\n",
            "Ingrese la semilla:9193\n",
            "Elemento Pseudo\n",
            "0 \t 9193\n",
            "1 \t 389\n",
            "2 \t 7297\n",
            "3 \t 2381\n",
            "4 \t 1913\n",
            "5 \t 949\n",
            "6 \t 4177\n",
            "7 \t 2621\n",
            "8 \t 3433\n",
            "9 \t 3909\n",
            "10 \t 6257\n",
            "11 \t 2461\n",
            "12 \t 5753\n",
            "13 \t 5269\n",
            "14 \t 1537\n",
            "15 \t 5901\n",
            "16 \t 873\n",
            "17 \t 1029\n",
            "18 \t 8017\n",
            "19 \t 6941\n",
            "20 \t 793\n",
            "21 \t 7189\n",
            "22 \t 3697\n",
            "23 \t 9581\n",
            "24 \t 7513\n",
            "25 \t 9749\n",
            "26 \t 6577\n",
            "27 \t 7821\n",
            "28 \t 3033\n",
            "29 \t 4709\n",
            "30 \t 4657\n",
            "31 \t 5661\n",
            "32 \t 9353\n",
            "33 \t 8069\n",
            "34 \t 5937\n",
            "35 \t 7101\n",
            "36 \t 8473\n",
            "37 \t 5829\n",
            "38 \t 8417\n",
            "39 \t 6141\n",
            "40 \t 2393\n",
            "41 \t 3989\n",
            "42 \t 97\n",
            "43 \t 6781\n",
            "44 \t 3113\n",
            "45 \t 8549\n",
            "46 \t 8977\n",
            "47 \t 3021\n",
            "48 \t 2633\n",
            "49 \t 5509\n",
            "50 \t 3057\n"
          ]
        }
      ],
      "source": [
        "#Congruencial Multiplicativo\n",
        "global N\n",
        "N = 51\n",
        "global ListaSemilla\n",
        "ListaSemilla = []\n",
        "M = 10000\n",
        "A = 0\n",
        "\n",
        "#Generar los pseudoaleatorios\\\n",
        "\n",
        "A = int(input(\"Ingrese el factor:\"))\n",
        "for i in range(N):\n",
        "  if i == 0:\n",
        "    ListaSemilla.append(int(input(\"Ingrese la semilla:\")))\n",
        "  else:\n",
        "    ListaSemilla.append((ListaSemilla[i-1]*A)%M)\n",
        "\n",
        "#Mostrar los pseudoaleatorios\n",
        "print(\"Elemento\",\"Pseudo\")\n",
        "for i in range (N):\n",
        "  print(i,\"\\t\",ListaSemilla[i])"
      ]
    },
    {
      "cell_type": "markdown",
      "source": [
        "***Prueba de independencia por medio del metodo de Chi Cuadrada***\n",
        "\n",
        "---"
      ],
      "metadata": {
        "id": "hdfs0IjGajWK"
      }
    },
    {
      "cell_type": "code",
      "source": [
        "#Prueba de Chi Cuadrado\n",
        "NumCat = 10\n",
        "AnchoCat = 1000\n",
        "Li = []\n",
        "LS = []\n",
        "FrecObs = []\n",
        "ChiCat = []\n",
        "SumChiCat = 0\n",
        "ChiCuadEsp = 14.684\n",
        "\n",
        "#Calcular los limites de cada categoria\n",
        "for i in range(NumCat):\n",
        "  Li.append(i*AnchoCat)\n",
        "  LS.append((1+i)*AnchoCat)\n",
        "  FrecObs.append(0)\n",
        "\n",
        "#Calcular la frecuencia esperada\n",
        "FrecEsp = N/NumCat\n",
        "\n",
        "#Calcular la frecuencia observada\n",
        "for r in ListaSemilla:\n",
        "  for i in range(NumCat):\n",
        "    if Li[i] <= r < LS[i]:\n",
        "      FrecObs[i]+=1\n",
        "      break\n",
        "\n",
        "#Calcular el valor de Chi por categoria\n",
        "for i in range(NumCat):\n",
        "  ChiCat.append((FrecObs[i]-FrecEsp)**2/FrecEsp)\n",
        "  SumChiCat += ChiCat[i]\n",
        "\n",
        "\n",
        "#Mostar los resultados en forma de tablas\n",
        "print(\"LimInf\",\"\\t\",\"LimSup\",\"FreEsp\",\"FreObs\",\"ChiCat\")\n",
        "for i in range(NumCat):\n",
        "  print(Li[i],\"\\t\",LS[i],\"\\t\",FrecEsp,\"\\t\",FrecObs[i],\"\\t\",ChiCat[i])\n",
        "print(\"Chi Cuadradro Tablas: \",SumChiCat)\n",
        "\n",
        "#Evaluar si los números pasan la prueba de Chi^2\n",
        "if SumChiCat < ChiCuadEsp:\n",
        "  print(\"Los numeros pseudoaletorios SI superan la prueba de independiencia.\")\n",
        "else:\n",
        "  print(\"Los numeros pseudoaletorios NO superan la prueba de independencia.\")"
      ],
      "metadata": {
        "id": "al14sQieFLf7",
        "colab": {
          "base_uri": "https://localhost:8080/"
        },
        "outputId": "64a63f26-7136-4e8b-f1c7-1b0ffa59b399"
      },
      "execution_count": 8,
      "outputs": [
        {
          "output_type": "stream",
          "name": "stdout",
          "text": [
            "LimInf \t LimSup FreEsp FreObs ChiCat\n",
            "0 \t 1000 \t 5.1 \t 5 \t 0.0019607843137254763\n",
            "1000 \t 2000 \t 5.1 \t 3 \t 0.8647058823529409\n",
            "2000 \t 3000 \t 5.1 \t 5 \t 0.0019607843137254763\n",
            "3000 \t 4000 \t 5.1 \t 8 \t 1.6490196078431378\n",
            "4000 \t 5000 \t 5.1 \t 3 \t 0.8647058823529409\n",
            "5000 \t 6000 \t 5.1 \t 7 \t 0.7078431372549022\n",
            "6000 \t 7000 \t 5.1 \t 5 \t 0.0019607843137254763\n",
            "7000 \t 8000 \t 5.1 \t 5 \t 0.0019607843137254763\n",
            "8000 \t 9000 \t 5.1 \t 6 \t 0.15882352941176484\n",
            "9000 \t 10000 \t 5.1 \t 4 \t 0.2372549019607842\n",
            "Chi Cuadradro Tablas:  4.4901960784313735\n",
            "Los numeros pseudoaletorios SI superan la prueba de independiencia.\n"
          ]
        }
      ]
    },
    {
      "cell_type": "markdown",
      "source": [
        "***Prueba de independencia por medio del método de Kolmogov - Smirnov***\n",
        "\n",
        "---\n",
        "\n"
      ],
      "metadata": {
        "id": "RZ6b3cu7ahCF"
      }
    },
    {
      "cell_type": "code",
      "source": [
        "#Prueba de independencia por Kolmogov - Smirnov\n",
        "import math\n",
        "L = ListaSemilla.copy()\n",
        "L.sort()\n",
        "DMax = []\n",
        "DMaxNeg = []\n",
        "DTablas = 1.22/math.sqrt(N)\n",
        "\n",
        "#Calcular los valores de DMax y DMaxNeg\n",
        "for i in range (N):\n",
        "  L[i] = L[i]/10000\n",
        "  DMax.append(((i+1)/N)-L[i])\n",
        "  DMaxNeg.append(L[i]-((i)/N))\n",
        "  print(\"%2d \\t %1.4f \\t %1.4f \\t %1.3f\" %(i+1,L[i],DMax[i],DMaxNeg[i]))\n",
        "#Mostrar los resultados de maxM\n",
        "print(\"DMax = %1.3f\" %max(DMax))\n",
        "print(\"DNeg = %1.3f\" %max(DMaxNeg))\n",
        "DCalc = max(max(DMax),max(DMaxNeg))\n",
        "print(\"DCalc = %1.3f\" %DCalc)\n",
        "print(\"DTablas = %1.3f\" %DTablas)\n",
        "\n",
        "\n",
        "#Evaluar si los números pasan la prueba de Kolmogov - Smirnov\n",
        "if DCalc <= DTablas:\n",
        "  print(\"Los numeros pseudoaletorios SI superan la prueba de independiencia.\")\n",
        "else:\n",
        "  print(\"Los numeros pseudoaletorios NO superan la prueba de independiencia.\")"
      ],
      "metadata": {
        "colab": {
          "base_uri": "https://localhost:8080/"
        },
        "id": "j61LUV1MlvZH",
        "outputId": "cbb59279-c132-4a47-89e9-2615a5d31a64"
      },
      "execution_count": 9,
      "outputs": [
        {
          "output_type": "stream",
          "name": "stdout",
          "text": [
            " 1 \t 0.0097 \t 0.0099 \t 0.010\n",
            " 2 \t 0.0389 \t 0.0003 \t 0.019\n",
            " 3 \t 0.0793 \t -0.0205 \t 0.040\n",
            " 4 \t 0.0873 \t -0.0089 \t 0.028\n",
            " 5 \t 0.0949 \t 0.0031 \t 0.016\n",
            " 6 \t 0.1029 \t 0.0147 \t 0.005\n",
            " 7 \t 0.1537 \t -0.0164 \t 0.036\n",
            " 8 \t 0.1913 \t -0.0344 \t 0.054\n",
            " 9 \t 0.2381 \t -0.0616 \t 0.081\n",
            "10 \t 0.2393 \t -0.0432 \t 0.063\n",
            "11 \t 0.2461 \t -0.0304 \t 0.050\n",
            "12 \t 0.2621 \t -0.0268 \t 0.046\n",
            "13 \t 0.2633 \t -0.0084 \t 0.028\n",
            "14 \t 0.3021 \t -0.0276 \t 0.047\n",
            "15 \t 0.3033 \t -0.0092 \t 0.029\n",
            "16 \t 0.3057 \t 0.0080 \t 0.012\n",
            "17 \t 0.3113 \t 0.0220 \t -0.002\n",
            "18 \t 0.3433 \t 0.0096 \t 0.010\n",
            "19 \t 0.3697 \t 0.0028 \t 0.017\n",
            "20 \t 0.3909 \t 0.0013 \t 0.018\n",
            "21 \t 0.3989 \t 0.0129 \t 0.007\n",
            "22 \t 0.4177 \t 0.0137 \t 0.006\n",
            "23 \t 0.4657 \t -0.0147 \t 0.034\n",
            "24 \t 0.4709 \t -0.0003 \t 0.020\n",
            "25 \t 0.5269 \t -0.0367 \t 0.056\n",
            "26 \t 0.5509 \t -0.0411 \t 0.061\n",
            "27 \t 0.5661 \t -0.0367 \t 0.056\n",
            "28 \t 0.5753 \t -0.0263 \t 0.046\n",
            "29 \t 0.5829 \t -0.0143 \t 0.034\n",
            "30 \t 0.5901 \t -0.0019 \t 0.021\n",
            "31 \t 0.5937 \t 0.0141 \t 0.005\n",
            "32 \t 0.6141 \t 0.0134 \t 0.006\n",
            "33 \t 0.6257 \t 0.0214 \t -0.002\n",
            "34 \t 0.6577 \t 0.0090 \t 0.011\n",
            "35 \t 0.6781 \t 0.0082 \t 0.011\n",
            "36 \t 0.6941 \t 0.0118 \t 0.008\n",
            "37 \t 0.7101 \t 0.0154 \t 0.004\n",
            "38 \t 0.7189 \t 0.0262 \t -0.007\n",
            "39 \t 0.7297 \t 0.0350 \t -0.015\n",
            "40 \t 0.7513 \t 0.0330 \t -0.013\n",
            "41 \t 0.7821 \t 0.0218 \t -0.002\n",
            "42 \t 0.8017 \t 0.0218 \t -0.002\n",
            "43 \t 0.8069 \t 0.0362 \t -0.017\n",
            "44 \t 0.8417 \t 0.0210 \t -0.001\n",
            "45 \t 0.8473 \t 0.0351 \t -0.015\n",
            "46 \t 0.8549 \t 0.0471 \t -0.027\n",
            "47 \t 0.8977 \t 0.0239 \t -0.004\n",
            "48 \t 0.9193 \t 0.0219 \t -0.002\n",
            "49 \t 0.9353 \t 0.0255 \t -0.006\n",
            "50 \t 0.9581 \t 0.0223 \t -0.003\n",
            "51 \t 0.9749 \t 0.0251 \t -0.005\n",
            "DMax = 0.047\n",
            "DNeg = 0.081\n",
            "DCalc = 0.081\n",
            "DTablas = 0.171\n",
            "Los numeros pseudoaletorios SI superan la prueba de independiencia.\n"
          ]
        }
      ]
    },
    {
      "cell_type": "markdown",
      "source": [
        "***Prueba de independencia y aleatoriedad por medio del método de Corridas Arriba - Corridas Abajo***\n",
        "\n",
        "---"
      ],
      "metadata": {
        "id": "kDtOveZmlv3P"
      }
    },
    {
      "cell_type": "code",
      "source": [
        "#Prueba de Corridas Arriba - Corridas Abajo\n",
        "import math\n",
        "Corridas = 0\n",
        "MCorridas = 0\n",
        "Varianza = 0\n",
        "ZCalc = 0\n",
        "ZTablas = 0\n",
        "Signo = []\n",
        "\n",
        "#Calcular los + y - de los Pseudos\n",
        "for i in range (N):\n",
        "  if i < N-1:\n",
        "    if ListaSemilla[i]  >= ListaSemilla[i+1]:\n",
        "      Signo.append(\"-\")\n",
        "    else:\n",
        "      Signo.append(\"+\")\n",
        "  else:\n",
        "      Signo.append(\"-\")\n",
        "  print(\"%2d \\t %4d \\t\" %(i+1,ListaSemilla[i]),Signo[i])\n",
        "\n",
        "#Contar la cantidad de corridas arriba y corridas abajo\n",
        "for i in range (1, N - 1):\n",
        "  if Signo[i] != Signo[i-1]:\n",
        "      Corridas += 1\n",
        "print(\"Cantidad de corridas:\",Corridas)\n",
        "\n",
        "#Calcular Media de corridas\n",
        "MCorridas = ((2*N)-1)/3\n",
        "print(\"Media de corridas:\",MCorridas)\n",
        "#Calcular Varianza de corridas\n",
        "Varianza = ((16*N)-29)/90\n",
        "print(\"Varianza de corridas:\",Varianza)\n",
        "#Calcular ZCalc\n",
        "ZCalc = (Corridas - MCorridas)/math.sqrt(Varianza)\n",
        "print(\"ZCalc:\",ZCalc)\n",
        "#Calcular ZTablas\n",
        "ZTablas = 1.96\n",
        "print(\"ZTablas:\",ZTablas)\n",
        "\n",
        "#Evaluar si los números pasan la prueba de Corridas Arriba - Corridas Abajo\n",
        "if abs(ZCalc) <= ZTablas:\n",
        "  print(\"Los numeros pseudoaletorios SI superan la prueba de independiencia Y la prueba de aleatoriedad.\")\n",
        "else:\n",
        "  print(\"Los numeros pseudoaletorios NO superan la prueba de independiencia NI la prueba de aleatoriedad.\")"
      ],
      "metadata": {
        "colab": {
          "base_uri": "https://localhost:8080/"
        },
        "id": "AySz87_PlwK-",
        "outputId": "431c0352-e402-4633-8d01-43ad3f8c5c38"
      },
      "execution_count": 10,
      "outputs": [
        {
          "output_type": "stream",
          "name": "stdout",
          "text": [
            " 1 \t 9193 \t -\n",
            " 2 \t  389 \t +\n",
            " 3 \t 7297 \t -\n",
            " 4 \t 2381 \t -\n",
            " 5 \t 1913 \t -\n",
            " 6 \t  949 \t +\n",
            " 7 \t 4177 \t -\n",
            " 8 \t 2621 \t +\n",
            " 9 \t 3433 \t +\n",
            "10 \t 3909 \t +\n",
            "11 \t 6257 \t -\n",
            "12 \t 2461 \t +\n",
            "13 \t 5753 \t -\n",
            "14 \t 5269 \t -\n",
            "15 \t 1537 \t +\n",
            "16 \t 5901 \t -\n",
            "17 \t  873 \t +\n",
            "18 \t 1029 \t +\n",
            "19 \t 8017 \t -\n",
            "20 \t 6941 \t -\n",
            "21 \t  793 \t +\n",
            "22 \t 7189 \t -\n",
            "23 \t 3697 \t +\n",
            "24 \t 9581 \t -\n",
            "25 \t 7513 \t +\n",
            "26 \t 9749 \t -\n",
            "27 \t 6577 \t +\n",
            "28 \t 7821 \t -\n",
            "29 \t 3033 \t +\n",
            "30 \t 4709 \t -\n",
            "31 \t 4657 \t +\n",
            "32 \t 5661 \t +\n",
            "33 \t 9353 \t -\n",
            "34 \t 8069 \t -\n",
            "35 \t 5937 \t +\n",
            "36 \t 7101 \t +\n",
            "37 \t 8473 \t -\n",
            "38 \t 5829 \t +\n",
            "39 \t 8417 \t -\n",
            "40 \t 6141 \t -\n",
            "41 \t 2393 \t +\n",
            "42 \t 3989 \t -\n",
            "43 \t   97 \t +\n",
            "44 \t 6781 \t -\n",
            "45 \t 3113 \t +\n",
            "46 \t 8549 \t +\n",
            "47 \t 8977 \t -\n",
            "48 \t 3021 \t -\n",
            "49 \t 2633 \t +\n",
            "50 \t 5509 \t -\n",
            "51 \t 3057 \t -\n",
            "Cantidad de corridas: 36\n",
            "Media de corridas: 33.666666666666664\n",
            "Varianza de corridas: 8.744444444444444\n",
            "ZCalc: 0.7890611731309697\n",
            "ZTablas: 1.96\n",
            "Los numeros pseudoaletorios SI superan la prueba de independiencia Y la prueba de aleatoriedad.\n"
          ]
        }
      ]
    }
  ]
}