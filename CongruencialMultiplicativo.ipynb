{
  "nbformat": 4,
  "nbformat_minor": 0,
  "metadata": {
    "colab": {
      "provenance": [],
      "authorship_tag": "ABX9TyNfOeGx3AfSbzQnUi255dc/"
    },
    "kernelspec": {
      "name": "python3",
      "display_name": "Python 3"
    },
    "language_info": {
      "name": "python"
    }
  },
  "cells": [
    {
      "cell_type": "code",
      "execution_count": 3,
      "metadata": {
        "colab": {
          "base_uri": "https://localhost:8080/"
        },
        "collapsed": true,
        "id": "-l4576owDJl8",
        "outputId": "84da38c5-5f25-4540-b854-7ce8b5ede3e3"
      },
      "outputs": [
        {
          "output_type": "stream",
          "name": "stdout",
          "text": [
            "Ingrese el factor:173\n",
            "Ingrese la semilla:9193\n",
            "Elemento Pseudo\n",
            "0 \t 9193\n",
            "1 \t 389\n",
            "2 \t 7297\n",
            "3 \t 2381\n",
            "4 \t 1913\n",
            "5 \t 949\n",
            "6 \t 4177\n",
            "7 \t 2621\n",
            "8 \t 3433\n",
            "9 \t 3909\n",
            "10 \t 6257\n",
            "11 \t 2461\n",
            "12 \t 5753\n",
            "13 \t 5269\n",
            "14 \t 1537\n",
            "15 \t 5901\n",
            "16 \t 873\n",
            "17 \t 1029\n",
            "18 \t 8017\n",
            "19 \t 6941\n",
            "20 \t 793\n",
            "21 \t 7189\n",
            "22 \t 3697\n",
            "23 \t 9581\n",
            "24 \t 7513\n",
            "25 \t 9749\n",
            "26 \t 6577\n",
            "27 \t 7821\n",
            "28 \t 3033\n",
            "29 \t 4709\n",
            "30 \t 4657\n",
            "31 \t 5661\n",
            "32 \t 9353\n",
            "33 \t 8069\n",
            "34 \t 5937\n",
            "35 \t 7101\n",
            "36 \t 8473\n",
            "37 \t 5829\n",
            "38 \t 8417\n",
            "39 \t 6141\n",
            "40 \t 2393\n",
            "41 \t 3989\n",
            "42 \t 97\n",
            "43 \t 6781\n",
            "44 \t 3113\n",
            "45 \t 8549\n",
            "46 \t 8977\n",
            "47 \t 3021\n",
            "48 \t 2633\n",
            "49 \t 5509\n",
            "50 \t 3057\n"
          ]
        }
      ],
      "source": [
        "#Congruencial Multiplicativo\n",
        "global N\n",
        "N = 51\n",
        "global ListaSemilla\n",
        "ListaSemilla = []\n",
        "M = 10000\n",
        "A = 0\n",
        "\n",
        "#Generar los pseudoaleatorios\\\n",
        "\n",
        "A = int(input(\"Ingrese el factor:\"))\n",
        "for i in range(N):\n",
        "  if i == 0:\n",
        "    ListaSemilla.append(int(input(\"Ingrese la semilla:\")))\n",
        "  else:\n",
        "    ListaSemilla.append((ListaSemilla[i-1]*A)%M)\n",
        "\n",
        "#Mostrar los pseudoaleatorios\n",
        "print(\"Elemento\",\"Pseudo\")\n",
        "for i in range (N):\n",
        "  print(i,\"\\t\",ListaSemilla[i])"
      ]
    },
    {
      "cell_type": "code",
      "source": [
        "#Prueba de Chi Cuadrado\n",
        "NumCat = 10\n",
        "AnchoCat = 1000\n",
        "Li = []\n",
        "LS = []\n",
        "FrecObs = []\n",
        "ChiCat = []\n",
        "SumChiCat = 0\n",
        "ChiCuadEsp = 14.684\n",
        "\n",
        "#Calcular los limites de cada categoria\n",
        "for i in range(NumCat):\n",
        "  Li.append(i*AnchoCat)\n",
        "  LS.append((1+i)*AnchoCat)\n",
        "  FrecObs.append(0)\n",
        "\n",
        "#Calcular la frecuencia esperada\n",
        "FrecEsp = N/NumCat\n",
        "\n",
        "#Calcular la frecuencia observada\n",
        "for r in ListaSemilla:\n",
        "  for i in range(NumCat):\n",
        "    if Li[i] <= r < LS[i]:\n",
        "      FrecObs[i]+=1\n",
        "      break\n",
        "\n",
        "#Calcular el valor de Chi por categoria\n",
        "for i in range(NumCat):\n",
        "  ChiCat.append((FrecObs[i]-FrecEsp)**2/FrecEsp)\n",
        "  SumChiCat += ChiCat[i]\n",
        "\n",
        "\n",
        "#Mostar los resultados en forma de tablas\n",
        "print(\"LimInf\",\"\\t\",\"LimSup\",\"FreEsp\",\"FreObs\",\"ChiCat\")\n",
        "for i in range(NumCat):\n",
        "  print(Li[i],\"\\t\",LS[i],\"\\t\",FrecEsp,\"\\t\",FrecObs[i],\"\\t\",ChiCat[i])\n",
        "print(\"Chi Cuadradro Tablas: \",SumChiCat)\n",
        "\n",
        "#Evaluar si los números pasan la prueba de Chi^2\n",
        "if SumChiCat < ChiCuadEsp:\n",
        "  print(\"Los numeros pseudoaletorios SI superan la prueba de independiencia.\")\n",
        "else:\n",
        "  print(\"Los numeros pseudoaletorios NO superan la prueba de independencia.\")"
      ],
      "metadata": {
        "id": "al14sQieFLf7"
      },
      "execution_count": null,
      "outputs": []
    }
  ]
}