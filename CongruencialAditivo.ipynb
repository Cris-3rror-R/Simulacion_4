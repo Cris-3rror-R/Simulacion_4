{
  "nbformat": 4,
  "nbformat_minor": 0,
  "metadata": {
    "colab": {
      "provenance": [],
      "authorship_tag": "ABX9TyOXkAbFCvQGte5jSxAnHSe2"
    },
    "kernelspec": {
      "name": "python3",
      "display_name": "Python 3"
    },
    "language_info": {
      "name": "python"
    }
  },
  "cells": [
    {
      "cell_type": "code",
      "execution_count": 9,
      "metadata": {
        "colab": {
          "base_uri": "https://localhost:8080/"
        },
        "collapsed": true,
        "id": "IuIwtMEEQW_u",
        "outputId": "d59bd8fa-c4e9-4687-fd1f-e489f5fc92fe"
      },
      "outputs": [
        {
          "output_type": "stream",
          "name": "stdout",
          "text": [
            "Semilla V 0\n",
            "Ingrese la semila:9911\n",
            "Semilla V 1\n",
            "Ingrese la semila:1111\n",
            "Semilla V 2\n",
            "Ingrese la semila:7711\n",
            "Semilla V 3\n",
            "Ingrese la semila:6021\n",
            "Elemento Pseudo\n",
            "0 \t 9911\n",
            "1 \t 1111\n",
            "2 \t 7711\n",
            "3 \t 6021\n",
            "4 \t 5932\n",
            "5 \t 7043\n",
            "6 \t 4754\n",
            "7 \t 775\n",
            "8 \t 6707\n",
            "9 \t 3750\n",
            "10 \t 8504\n",
            "11 \t 9279\n",
            "12 \t 5986\n",
            "13 \t 9736\n",
            "14 \t 8240\n",
            "15 \t 7519\n",
            "16 \t 3505\n",
            "17 \t 3241\n",
            "18 \t 1481\n",
            "19 \t 9000\n",
            "20 \t 2505\n",
            "21 \t 5746\n",
            "22 \t 7227\n",
            "23 \t 6227\n",
            "24 \t 8732\n",
            "25 \t 4478\n",
            "26 \t 1705\n",
            "27 \t 7932\n",
            "28 \t 6664\n",
            "29 \t 1142\n",
            "30 \t 2847\n",
            "31 \t 779\n",
            "32 \t 7443\n",
            "33 \t 8585\n",
            "34 \t 1432\n",
            "35 \t 2211\n",
            "36 \t 9654\n",
            "37 \t 8239\n",
            "38 \t 9671\n",
            "39 \t 1882\n",
            "40 \t 1536\n",
            "41 \t 9775\n",
            "42 \t 9446\n",
            "43 \t 1328\n",
            "44 \t 2864\n",
            "45 \t 2639\n",
            "46 \t 2085\n",
            "47 \t 3413\n",
            "48 \t 6277\n",
            "49 \t 8916\n",
            "50 \t 1001\n"
          ]
        }
      ],
      "source": [
        "global N\n",
        "N = 51\n",
        "global ListaSemilla\n",
        "ListaSemilla = []\n",
        "M = 10000\n",
        "\n",
        "#Generar los pseudoaleatorios\n",
        "for i in range (N):\n",
        "  if i < 4:\n",
        "    print(\"Semilla V\",i)\n",
        "    ListaSemilla.append(int(input(\"Ingrese la semila:\")))\n",
        "  else:\n",
        "    ListaSemilla.append((ListaSemilla[i-1]+ListaSemilla[i-4])%M)\n",
        "\n",
        "#Mostrar los pseudoaleatorios\n",
        "print(\"Elemento\",\"Pseudo\")\n",
        "for i in range (N):\n",
        "  print(i,\"\\t\",ListaSemilla[i])"
      ]
    },
    {
      "cell_type": "code",
      "source": [
        "#Prueba de Chi Cuadrado\n",
        "NumCat = 10\n",
        "AnchoCat = 1000\n",
        "Li = []\n",
        "LS = []\n",
        "FrecObs = []\n",
        "ChiCat = []\n",
        "SumChiCat = 0\n",
        "ChiCuadEsp = 14.684\n",
        "\n",
        "#Calcular los limites de cada categoria\n",
        "for i in range(NumCat):\n",
        "  Li.append(i*AnchoCat)\n",
        "  LS.append((1+i)*AnchoCat)\n",
        "  FrecObs.append(0)\n",
        "\n",
        "#Calcular la frecuencia esperada\n",
        "FrecEsp = N/NumCat\n",
        "\n",
        "#Calcular la frecuencia observada\n",
        "for r in ListaSemilla:\n",
        "  for i in range(NumCat):\n",
        "    if Li[i] <= r < LS[i]:\n",
        "      FrecObs[i]+=1\n",
        "      break\n",
        "\n",
        "#Calcular el valor de Chi por categoria\n",
        "for i in range(NumCat):\n",
        "  ChiCat.append((FrecObs[i]-FrecEsp)**2/FrecEsp)\n",
        "  SumChiCat += ChiCat[i]\n",
        "\n",
        "\n",
        "#Mostar los resultados en forma de tablas\n",
        "print(\"LimInf\",\"\\t\",\"LimSup\",\"FreEsp\",\"FreObs\",\"ChiCat\")\n",
        "for i in range(NumCat):\n",
        "  print(Li[i],\"\\t\",LS[i],\"\\t\",FrecEsp,\"\\t\",FrecObs[i],\"\\t\",ChiCat[i])\n",
        "print(\"Chi Cuadradro Tablas: \",SumChiCat)\n",
        "\n",
        "#Evaluar si los números pasan la prueba de Chi^2\n",
        "if SumChiCat < ChiCuadEsp:\n",
        "  print(\"Los numeros pseudoaletorios SI superan la prueba de independiencia.\")\n",
        "else:\n",
        "  print(\"Los numeros pseudoaletorios NO superan la prueba de independencia.\")"
      ],
      "metadata": {
        "colab": {
          "base_uri": "https://localhost:8080/"
        },
        "collapsed": true,
        "id": "W6qonZScCukp",
        "outputId": "86995873-fa7b-4837-8520-e1f6d5049ee3"
      },
      "execution_count": 10,
      "outputs": [
        {
          "output_type": "stream",
          "name": "stdout",
          "text": [
            "LimInf \t LimSup FreEsp FreObs ChiCat\n",
            "0 \t 1000 \t 5.1 \t 2 \t 1.8843137254901958\n",
            "1000 \t 2000 \t 5.1 \t 9 \t 2.982352941176471\n",
            "2000 \t 3000 \t 5.1 \t 6 \t 0.15882352941176484\n",
            "3000 \t 4000 \t 5.1 \t 4 \t 0.2372549019607842\n",
            "4000 \t 5000 \t 5.1 \t 2 \t 1.8843137254901958\n",
            "5000 \t 6000 \t 5.1 \t 3 \t 0.8647058823529409\n",
            "6000 \t 7000 \t 5.1 \t 5 \t 0.0019607843137254763\n",
            "7000 \t 8000 \t 5.1 \t 6 \t 0.15882352941176484\n",
            "8000 \t 9000 \t 5.1 \t 6 \t 0.15882352941176484\n",
            "9000 \t 10000 \t 5.1 \t 8 \t 1.6490196078431378\n",
            "Chi Cuadradro Tablas:  9.980392156862745\n",
            "Los numeros pseudoaletorios SI superan la prueba de independiencia.\n"
          ]
        }
      ]
    }
  ]
}