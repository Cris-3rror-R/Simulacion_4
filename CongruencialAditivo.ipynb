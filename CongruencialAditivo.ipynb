{
  "nbformat": 4,
  "nbformat_minor": 0,
  "metadata": {
    "colab": {
      "provenance": [],
      "authorship_tag": "ABX9TyOOrpmh55DeHKLn80s3V8Hc"
    },
    "kernelspec": {
      "name": "python3",
      "display_name": "Python 3"
    },
    "language_info": {
      "name": "python"
    }
  },
  "cells": [
    {
      "cell_type": "markdown",
      "source": [
        "***Generación de números Pseudoaletorios por medio de Conguencial Aditivo***\n",
        "\n",
        "---\n",
        "\n"
      ],
      "metadata": {
        "id": "rd6qzASRZ7QG"
      }
    },
    {
      "cell_type": "code",
      "execution_count": 1,
      "metadata": {
        "colab": {
          "base_uri": "https://localhost:8080/"
        },
        "collapsed": true,
        "id": "IuIwtMEEQW_u",
        "outputId": "67a4b854-e27d-435c-83f2-1dde20dbc886"
      },
      "outputs": [
        {
          "output_type": "stream",
          "name": "stdout",
          "text": [
            "Semilla V 0\n",
            "Ingrese la semila:9911\n",
            "Semilla V 1\n",
            "Ingrese la semila:1111\n",
            "Semilla V 2\n",
            "Ingrese la semila:7711\n",
            "Semilla V 3\n",
            "Ingrese la semila:6021\n",
            "Elemento Pseudo\n",
            "0 \t 9911\n",
            "1 \t 1111\n",
            "2 \t 7711\n",
            "3 \t 6021\n",
            "4 \t 5932\n",
            "5 \t 7043\n",
            "6 \t 4754\n",
            "7 \t 775\n",
            "8 \t 6707\n",
            "9 \t 3750\n",
            "10 \t 8504\n",
            "11 \t 9279\n",
            "12 \t 5986\n",
            "13 \t 9736\n",
            "14 \t 8240\n",
            "15 \t 7519\n",
            "16 \t 3505\n",
            "17 \t 3241\n",
            "18 \t 1481\n",
            "19 \t 9000\n",
            "20 \t 2505\n",
            "21 \t 5746\n",
            "22 \t 7227\n",
            "23 \t 6227\n",
            "24 \t 8732\n",
            "25 \t 4478\n",
            "26 \t 1705\n",
            "27 \t 7932\n",
            "28 \t 6664\n",
            "29 \t 1142\n",
            "30 \t 2847\n",
            "31 \t 779\n",
            "32 \t 7443\n",
            "33 \t 8585\n",
            "34 \t 1432\n",
            "35 \t 2211\n",
            "36 \t 9654\n",
            "37 \t 8239\n",
            "38 \t 9671\n",
            "39 \t 1882\n",
            "40 \t 1536\n",
            "41 \t 9775\n",
            "42 \t 9446\n",
            "43 \t 1328\n",
            "44 \t 2864\n",
            "45 \t 2639\n",
            "46 \t 2085\n",
            "47 \t 3413\n",
            "48 \t 6277\n",
            "49 \t 8916\n",
            "50 \t 1001\n"
          ]
        }
      ],
      "source": [
        "#Congruencial Aditivo\n",
        "global N\n",
        "N = 51\n",
        "global ListaSemilla\n",
        "ListaSemilla = []\n",
        "M = 10000\n",
        "\n",
        "#Generar los pseudoaleatorios\n",
        "for i in range (N):\n",
        "  if i < 4:\n",
        "    print(\"Semilla V\",i)\n",
        "    ListaSemilla.append(int(input(\"Ingrese la semila:\")))\n",
        "  else:\n",
        "    ListaSemilla.append((ListaSemilla[i-1]+ListaSemilla[i-4])%M)\n",
        "\n",
        "#Mostrar los pseudoaleatorios\n",
        "print(\"Elemento\",\"Pseudo\")\n",
        "for i in range (N):\n",
        "  print(i,\"\\t\",ListaSemilla[i])"
      ]
    },
    {
      "cell_type": "markdown",
      "source": [
        "***Prueba de independencia por medio del metodo de Chi Cuadrada***\n",
        "\n",
        "---"
      ],
      "metadata": {
        "id": "ihL20dS4aBE2"
      }
    },
    {
      "cell_type": "code",
      "source": [
        "#Prueba de Chi Cuadrado\n",
        "NumCat = 10\n",
        "AnchoCat = 1000\n",
        "Li = []\n",
        "LS = []\n",
        "FrecObs = []\n",
        "ChiCat = []\n",
        "SumChiCat = 0\n",
        "ChiCuadEsp = 14.684\n",
        "\n",
        "#Calcular los limites de cada categoria\n",
        "for i in range(NumCat):\n",
        "  Li.append(i*AnchoCat)\n",
        "  LS.append((1+i)*AnchoCat)\n",
        "  FrecObs.append(0)\n",
        "\n",
        "#Calcular la frecuencia esperada\n",
        "FrecEsp = N/NumCat\n",
        "\n",
        "#Calcular la frecuencia observada\n",
        "for r in ListaSemilla:\n",
        "  for i in range(NumCat):\n",
        "    if Li[i] <= r < LS[i]:\n",
        "      FrecObs[i]+=1\n",
        "      break\n",
        "\n",
        "#Calcular el valor de Chi por categoria\n",
        "for i in range(NumCat):\n",
        "  ChiCat.append((FrecObs[i]-FrecEsp)**2/FrecEsp)\n",
        "  SumChiCat += ChiCat[i]\n",
        "\n",
        "\n",
        "#Mostar los resultados en forma de tablas\n",
        "print(\"LimInf\",\"\\t\",\"LimSup\",\"FreEsp\",\"FreObs\",\"ChiCat\")\n",
        "for i in range(NumCat):\n",
        "  print(Li[i],\"\\t\",LS[i],\"\\t\",FrecEsp,\"\\t\",FrecObs[i],\"\\t\",ChiCat[i])\n",
        "print(\"Chi Cuadradro Tablas: \",SumChiCat)\n",
        "\n",
        "#Evaluar si los números pasan la prueba de Chi^2\n",
        "if SumChiCat < ChiCuadEsp:\n",
        "  print(\"Los numeros pseudoaletorios SI superan la prueba de independiencia.\")\n",
        "else:\n",
        "  print(\"Los numeros pseudoaletorios NO superan la prueba de independencia.\")"
      ],
      "metadata": {
        "colab": {
          "base_uri": "https://localhost:8080/"
        },
        "collapsed": true,
        "id": "W6qonZScCukp",
        "outputId": "2990801c-42ab-45f2-af7f-3142478b0c14"
      },
      "execution_count": 2,
      "outputs": [
        {
          "output_type": "stream",
          "name": "stdout",
          "text": [
            "LimInf \t LimSup FreEsp FreObs ChiCat\n",
            "0 \t 1000 \t 5.1 \t 2 \t 1.8843137254901958\n",
            "1000 \t 2000 \t 5.1 \t 9 \t 2.982352941176471\n",
            "2000 \t 3000 \t 5.1 \t 6 \t 0.15882352941176484\n",
            "3000 \t 4000 \t 5.1 \t 4 \t 0.2372549019607842\n",
            "4000 \t 5000 \t 5.1 \t 2 \t 1.8843137254901958\n",
            "5000 \t 6000 \t 5.1 \t 3 \t 0.8647058823529409\n",
            "6000 \t 7000 \t 5.1 \t 5 \t 0.0019607843137254763\n",
            "7000 \t 8000 \t 5.1 \t 6 \t 0.15882352941176484\n",
            "8000 \t 9000 \t 5.1 \t 6 \t 0.15882352941176484\n",
            "9000 \t 10000 \t 5.1 \t 8 \t 1.6490196078431378\n",
            "Chi Cuadradro Tablas:  9.980392156862745\n",
            "Los numeros pseudoaletorios SI superan la prueba de independiencia.\n"
          ]
        }
      ]
    },
    {
      "cell_type": "markdown",
      "source": [
        "***Prueba de independencia por medio del metodo de Kolmogov***\n",
        "\n",
        "---"
      ],
      "metadata": {
        "id": "32gV9MxtaVjz"
      }
    },
    {
      "cell_type": "code",
      "source": [
        "#Prueba de independencia por Kolmogov - Smirnov\n",
        "import math\n",
        "L = ListaSemilla.copy()\n",
        "L.sort()\n",
        "DMax = []\n",
        "DMaxNeg = []\n",
        "DTablas = 1.22/math.sqrt(N)\n",
        "\n",
        "#Calcular los valores de DMax y DMaxNeg\n",
        "for i in range (N):\n",
        "  L[i] = L[i]/10000\n",
        "  DMax.append(((i+1)/N)-L[i])\n",
        "  DMaxNeg.append(L[i]-((i)/N))\n",
        "  print(\"%2d \\t %1.4f \\t %1.4f \\t %1.3f\" %(i+1,L[i],DMax[i],DMaxNeg[i]))\n",
        "#Mostrar los resultados de maxM\n",
        "print(\"DMax = %1.3f\" %max(DMax))\n",
        "print(\"DNeg = %1.3f\" %max(DMaxNeg))\n",
        "DCalc = max(max(DMax),max(DMaxNeg))\n",
        "print(\"DCalc = %1.3f\" %DCalc)\n",
        "print(\"DTablas = %1.3f\" %DTablas)\n",
        "\n",
        "\n",
        "#Evaluar si los números pasan la prueba de Kolmogov - Smirnov\n",
        "if DCalc <= DTablas:\n",
        "  print(\"Los numeros pseudoaletorios SI superan la prueba de independiencia.\")\n",
        "else:\n",
        "  print(\"Los numeros pseudoaletorios NO superan la prueba de independiencia.\")\n"
      ],
      "metadata": {
        "colab": {
          "base_uri": "https://localhost:8080/"
        },
        "id": "d1c-G6GUlFVo",
        "outputId": "0f393fdd-5763-4b12-a57c-e14954991e3e"
      },
      "execution_count": 3,
      "outputs": [
        {
          "output_type": "stream",
          "name": "stdout",
          "text": [
            " 1 \t 0.0775 \t -0.0579 \t 0.077\n",
            " 2 \t 0.0779 \t -0.0387 \t 0.058\n",
            " 3 \t 0.1001 \t -0.0413 \t 0.061\n",
            " 4 \t 0.1111 \t -0.0327 \t 0.052\n",
            " 5 \t 0.1142 \t -0.0162 \t 0.036\n",
            " 6 \t 0.1328 \t -0.0152 \t 0.035\n",
            " 7 \t 0.1432 \t -0.0059 \t 0.026\n",
            " 8 \t 0.1481 \t 0.0088 \t 0.011\n",
            " 9 \t 0.1536 \t 0.0229 \t -0.003\n",
            "10 \t 0.1705 \t 0.0256 \t -0.006\n",
            "11 \t 0.1882 \t 0.0275 \t -0.008\n",
            "12 \t 0.2085 \t 0.0268 \t -0.007\n",
            "13 \t 0.2211 \t 0.0338 \t -0.014\n",
            "14 \t 0.2505 \t 0.0240 \t -0.004\n",
            "15 \t 0.2639 \t 0.0302 \t -0.011\n",
            "16 \t 0.2847 \t 0.0290 \t -0.009\n",
            "17 \t 0.2864 \t 0.0469 \t -0.027\n",
            "18 \t 0.3241 \t 0.0288 \t -0.009\n",
            "19 \t 0.3413 \t 0.0312 \t -0.012\n",
            "20 \t 0.3505 \t 0.0417 \t -0.022\n",
            "21 \t 0.3750 \t 0.0368 \t -0.017\n",
            "22 \t 0.4478 \t -0.0164 \t 0.036\n",
            "23 \t 0.4754 \t -0.0244 \t 0.044\n",
            "24 \t 0.5746 \t -0.1040 \t 0.124\n",
            "25 \t 0.5932 \t -0.1030 \t 0.123\n",
            "26 \t 0.5986 \t -0.0888 \t 0.108\n",
            "27 \t 0.6021 \t -0.0727 \t 0.092\n",
            "28 \t 0.6227 \t -0.0737 \t 0.093\n",
            "29 \t 0.6277 \t -0.0591 \t 0.079\n",
            "30 \t 0.6664 \t -0.0782 \t 0.098\n",
            "31 \t 0.6707 \t -0.0629 \t 0.082\n",
            "32 \t 0.7043 \t -0.0768 \t 0.096\n",
            "33 \t 0.7227 \t -0.0756 \t 0.095\n",
            "34 \t 0.7443 \t -0.0776 \t 0.097\n",
            "35 \t 0.7519 \t -0.0656 \t 0.085\n",
            "36 \t 0.7711 \t -0.0652 \t 0.085\n",
            "37 \t 0.7932 \t -0.0677 \t 0.087\n",
            "38 \t 0.8239 \t -0.0788 \t 0.098\n",
            "39 \t 0.8240 \t -0.0593 \t 0.079\n",
            "40 \t 0.8504 \t -0.0661 \t 0.086\n",
            "41 \t 0.8585 \t -0.0546 \t 0.074\n",
            "42 \t 0.8732 \t -0.0497 \t 0.069\n",
            "43 \t 0.8916 \t -0.0485 \t 0.068\n",
            "44 \t 0.9000 \t -0.0373 \t 0.057\n",
            "45 \t 0.9279 \t -0.0455 \t 0.065\n",
            "46 \t 0.9446 \t -0.0426 \t 0.062\n",
            "47 \t 0.9654 \t -0.0438 \t 0.063\n",
            "48 \t 0.9671 \t -0.0259 \t 0.046\n",
            "49 \t 0.9736 \t -0.0128 \t 0.032\n",
            "50 \t 0.9775 \t 0.0029 \t 0.017\n",
            "51 \t 0.9911 \t 0.0089 \t 0.011\n",
            "DMax = 0.047\n",
            "DNeg = 0.124\n",
            "DCalc = 0.124\n",
            "DTablas = 0.171\n",
            "Los numeros pseudoaletorios SI superan la prueba de independiencia.\n"
          ]
        }
      ]
    },
    {
      "cell_type": "markdown",
      "source": [
        "***Prueba de independencia y aleatoriedad por medio del método de Corridas Arriba - Corridas Abajo***\n",
        "\n",
        "---"
      ],
      "metadata": {
        "id": "hcDlNpKblHJf"
      }
    },
    {
      "cell_type": "code",
      "source": [
        "#Prueba de Corridas Arriba - Corridas Abajo\n",
        "import math\n",
        "Corridas = 0\n",
        "MCorridas = 0\n",
        "Varianza = 0\n",
        "ZCalc = 0\n",
        "ZTablas = 0\n",
        "Signo = []\n",
        "\n",
        "#Calcular los + y - de los Pseudos\n",
        "for i in range (N):\n",
        "  if i < N-1:\n",
        "    if ListaSemilla[i]  >= ListaSemilla[i+1]:\n",
        "      Signo.append(\"-\")\n",
        "    else:\n",
        "      Signo.append(\"+\")\n",
        "  else:\n",
        "      Signo.append(\"-\")\n",
        "  print(\"%2d \\t %4d \\t\" %(i+1,ListaSemilla[i]),Signo[i])\n",
        "\n",
        "#Contar la cantidad de corridas arriba y corridas abajo\n",
        "for i in range (1, N - 1):\n",
        "  if Signo[i] != Signo[i-1]:\n",
        "      Corridas += 1\n",
        "print(\"Cantidad de corridas:\",Corridas)\n",
        "\n",
        "#Calcular Media de corridas\n",
        "MCorridas = ((2*N)-1)/3\n",
        "print(\"Media de corridas:\",MCorridas)\n",
        "#Calcular Varianza de corridas\n",
        "Varianza = ((16*N)-29)/90\n",
        "print(\"Varianza de corridas:\",Varianza)\n",
        "#Calcular ZCalc\n",
        "ZCalc = (Corridas - MCorridas)/math.sqrt(Varianza)\n",
        "print(\"ZCalc:\",ZCalc)\n",
        "#Calcular ZTablas\n",
        "ZTablas = 1.96\n",
        "print(\"ZTablas:\",ZTablas)\n",
        "\n",
        "#Evaluar si los números pasan la prueba de Corridas Arriba - Corridas Abajo\n",
        "if abs(ZCalc) <= ZTablas:\n",
        "  print(\"Los numeros pseudoaletorios SI superan la prueba de independiencia Y la prueba de aleatoriedad.\")\n",
        "else:\n",
        "  print(\"Los numeros pseudoaletorios NO superan la prueba de independiencia NI la prueba de aleatoriedad.\")"
      ],
      "metadata": {
        "colab": {
          "base_uri": "https://localhost:8080/"
        },
        "id": "ro3t2KyOlHyn",
        "outputId": "6c6a8dca-bf61-490d-c99e-399e83a64683"
      },
      "execution_count": 4,
      "outputs": [
        {
          "output_type": "stream",
          "name": "stdout",
          "text": [
            " 1 \t 9911 \t -\n",
            " 2 \t 1111 \t +\n",
            " 3 \t 7711 \t -\n",
            " 4 \t 6021 \t -\n",
            " 5 \t 5932 \t +\n",
            " 6 \t 7043 \t -\n",
            " 7 \t 4754 \t -\n",
            " 8 \t  775 \t +\n",
            " 9 \t 6707 \t -\n",
            "10 \t 3750 \t +\n",
            "11 \t 8504 \t +\n",
            "12 \t 9279 \t -\n",
            "13 \t 5986 \t +\n",
            "14 \t 9736 \t -\n",
            "15 \t 8240 \t -\n",
            "16 \t 7519 \t -\n",
            "17 \t 3505 \t -\n",
            "18 \t 3241 \t -\n",
            "19 \t 1481 \t +\n",
            "20 \t 9000 \t -\n",
            "21 \t 2505 \t +\n",
            "22 \t 5746 \t +\n",
            "23 \t 7227 \t -\n",
            "24 \t 6227 \t +\n",
            "25 \t 8732 \t -\n",
            "26 \t 4478 \t -\n",
            "27 \t 1705 \t +\n",
            "28 \t 7932 \t -\n",
            "29 \t 6664 \t -\n",
            "30 \t 1142 \t +\n",
            "31 \t 2847 \t -\n",
            "32 \t  779 \t +\n",
            "33 \t 7443 \t +\n",
            "34 \t 8585 \t -\n",
            "35 \t 1432 \t +\n",
            "36 \t 2211 \t +\n",
            "37 \t 9654 \t -\n",
            "38 \t 8239 \t +\n",
            "39 \t 9671 \t -\n",
            "40 \t 1882 \t -\n",
            "41 \t 1536 \t +\n",
            "42 \t 9775 \t -\n",
            "43 \t 9446 \t -\n",
            "44 \t 1328 \t +\n",
            "45 \t 2864 \t -\n",
            "46 \t 2639 \t -\n",
            "47 \t 2085 \t +\n",
            "48 \t 3413 \t +\n",
            "49 \t 6277 \t +\n",
            "50 \t 8916 \t -\n",
            "51 \t 1001 \t -\n",
            "Cantidad de corridas: 32\n",
            "Media de corridas: 33.666666666666664\n",
            "Varianza de corridas: 8.744444444444444\n",
            "ZCalc: -0.563615123664977\n",
            "ZTablas: 1.96\n",
            "Los numeros pseudoaletorios SI superan la prueba de independiencia Y la prueba de aleatoriedad.\n"
          ]
        }
      ]
    }
  ]
}