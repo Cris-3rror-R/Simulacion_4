{
  "nbformat": 4,
  "nbformat_minor": 0,
  "metadata": {
    "colab": {
      "provenance": [],
      "authorship_tag": "ABX9TyO/Z1xmocSoxwC7S7H+RhFe"
    },
    "kernelspec": {
      "name": "python3",
      "display_name": "Python 3"
    },
    "language_info": {
      "name": "python"
    }
  },
  "cells": [
    {
      "cell_type": "code",
      "source": [
        "from posixpath import split\n",
        "#Página de donde se vio la forma de obtener los caracteres de una cadena: https://www.freecodecamp.org/espanol/news/sustraer-una-cadena-caracteres-en-python/\n",
        "global N\n",
        "N = 51\n",
        "global ListaSemilla\n",
        "ListaSemilla = []\n",
        "#Calcular los números pseudoaletorios en base de una semilla inicial\n",
        "Semilla = int(input(\"Ingrese una semilla:\"))\n",
        "for i in range(N):\n",
        "  ListaSemilla.append(Semilla)\n",
        "  SemCuad = Semilla**2\n",
        "  SemiCom = str(Semilla).zfill(4)\n",
        "  SemCuadText = str(SemCuad)\n",
        "  SemCuadText = SemCuadText.zfill(8)\n",
        "  SemNueva = SemCuadText[2:6]\n",
        "  Semilla =int(SemNueva)\n",
        "\n",
        "#Mostrar los números pseudoaletorios generados\n",
        "print(\"Elemento\",\"Pseudos\")\n",
        "for i in range(N):\n",
        "  print(i,\"\\t\",ListaSemilla[i])\n"
      ],
      "metadata": {
        "colab": {
          "base_uri": "https://localhost:8080/"
        },
        "id": "7xv00SunWK4Z",
        "outputId": "ff5bd42c-3cb4-4f17-88c8-5db83f7354a9",
        "collapsed": true
      },
      "execution_count": null,
      "outputs": [
        {
          "output_type": "stream",
          "name": "stdout",
          "text": [
            "Ingrese una semilla:9197\n",
            "Elemento Pseudos\n",
            "0 \t 9197\n",
            "1 \t 5848\n",
            "2 \t 1991\n",
            "3 \t 9640\n",
            "4 \t 9296\n",
            "5 \t 4156\n",
            "6 \t 2723\n",
            "7 \t 4147\n",
            "8 \t 1976\n",
            "9 \t 9045\n",
            "10 \t 8120\n",
            "11 \t 9344\n",
            "12 \t 3103\n",
            "13 \t 6286\n",
            "14 \t 5137\n",
            "15 \t 3887\n",
            "16 \t 1087\n",
            "17 \t 1815\n",
            "18 \t 2942\n",
            "19 \t 6553\n",
            "20 \t 9418\n",
            "21 \t 6987\n",
            "22 \t 8181\n",
            "23 \t 9287\n",
            "24 \t 2483\n",
            "25 \t 1652\n",
            "26 \t 7291\n",
            "27 \t 1586\n",
            "28 \t 5153\n",
            "29 \t 5534\n",
            "30 \t 6251\n",
            "31 \t 750\n",
            "32 \t 5625\n",
            "33 \t 6406\n",
            "34 \t 368\n",
            "35 \t 1354\n",
            "36 \t 8333\n",
            "37 \t 4388\n",
            "38 \t 2545\n",
            "39 \t 4770\n",
            "40 \t 7529\n",
            "41 \t 6858\n",
            "42 \t 321\n",
            "43 \t 1030\n",
            "44 \t 609\n",
            "45 \t 3708\n",
            "46 \t 7492\n",
            "47 \t 1300\n",
            "48 \t 6900\n",
            "49 \t 6100\n",
            "50 \t 2100\n"
          ]
        }
      ]
    },
    {
      "cell_type": "markdown",
      "source": [],
      "metadata": {
        "id": "zbCmXTR30Jp3"
      }
    },
    {
      "cell_type": "code",
      "source": [
        "NumCat = 10\n",
        "AnchoCat = 1000\n",
        "Li = []\n",
        "LS = []\n",
        "FrecObs = []\n",
        "ChiCat = []\n",
        "SumChiCat = 0\n",
        "ChiCuadEsp = 14.684\n",
        "\n",
        "#Calcular los limites de cada categoria\n",
        "for i in range(NumCat):\n",
        "  Li.append(i*AnchoCat)\n",
        "  LS.append((1+i)*AnchoCat)\n",
        "  FrecObs.append(0)\n",
        "\n",
        "#Calcular la frecuencia esperada\n",
        "FrecEsp = N/NumCat\n",
        "\n",
        "#Calcular la frecuencia observada\n",
        "for r in ListaSemilla:\n",
        "  for i in range(NumCat):\n",
        "    if Li[i] <= r < LS[i]:\n",
        "      FrecObs[i]+=1\n",
        "      break\n",
        "\n",
        "#Calcular el valor de Chi por categoria\n",
        "for i in range(NumCat):\n",
        "  ChiCat.append((FrecObs[i]-FrecEsp)**2/FrecEsp)\n",
        "  SumChiCat += ChiCat[i]\n",
        "\n",
        "\n",
        "#Mostar los resultados en forma de tablas\n",
        "print(\"LimInf\",\"\\t\",\"LimSup\",\"FreEsp\",\"FreObs\",\"ChiCat\")\n",
        "for i in range(NumCat):\n",
        "  print(Li[i],\"\\t\",LS[i],\"\\t\",FrecEsp,\"\\t\",FrecObs[i],\"\\t\",ChiCat[i])\n",
        "print(\"Chi Cuadradro Tablas: \",SumChiCat)\n",
        "\n",
        "#Evaluar si los números pasan la prueba de Chi^2\n",
        "if SumChiCat < ChiCuadEsp:\n",
        "  print(\"Los numeros pseudoaletorios SI superan la prueba de independiencia.\")\n",
        "else:\n",
        "  print(\"Los numeros pseudoaletorios NO superan la prueba de independencia.\")"
      ],
      "metadata": {
        "id": "7jXttw0tYoi7",
        "colab": {
          "base_uri": "https://localhost:8080/"
        },
        "outputId": "5d0c4578-63c1-4235-f90c-4bf70d5abc16",
        "collapsed": true
      },
      "execution_count": null,
      "outputs": [
        {
          "output_type": "stream",
          "name": "stdout",
          "text": [
            "LimInf \t LimSup FreEsp FreObs ChiCat\n",
            "0 \t 1000 \t 5.1 \t 4 \t 0.2372549019607842\n",
            "1000 \t 2000 \t 5.1 \t 9 \t 2.982352941176471\n",
            "2000 \t 3000 \t 5.1 \t 5 \t 0.0019607843137254763\n",
            "3000 \t 4000 \t 5.1 \t 3 \t 0.8647058823529409\n",
            "4000 \t 5000 \t 5.1 \t 4 \t 0.2372549019607842\n",
            "5000 \t 6000 \t 5.1 \t 5 \t 0.0019607843137254763\n",
            "6000 \t 7000 \t 5.1 \t 8 \t 1.6490196078431378\n",
            "7000 \t 8000 \t 5.1 \t 3 \t 0.8647058823529409\n",
            "8000 \t 9000 \t 5.1 \t 3 \t 0.8647058823529409\n",
            "9000 \t 10000 \t 5.1 \t 7 \t 0.7078431372549022\n",
            "Chi Cuadradro Tablas:  8.411764705882353\n",
            "Los numeros pseudoaletorios SI superan la prueba de independiencia.\n"
          ]
        }
      ]
    }
  ]
}