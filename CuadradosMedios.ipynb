{
  "nbformat": 4,
  "nbformat_minor": 0,
  "metadata": {
    "colab": {
      "provenance": [],
      "authorship_tag": "ABX9TyO8y8JY5kaNyUdGojqZ9woM",
      "include_colab_link": true
    },
    "kernelspec": {
      "name": "python3",
      "display_name": "Python 3"
    },
    "language_info": {
      "name": "python"
    }
  },
  "cells": [
    {
      "cell_type": "markdown",
      "metadata": {
        "id": "view-in-github",
        "colab_type": "text"
      },
      "source": [
        "<a href=\"https://colab.research.google.com/github/Cris-3rror-R/Simulacion_4/blob/main/CuadradosMedios.ipynb\" target=\"_parent\"><img src=\"https://colab.research.google.com/assets/colab-badge.svg\" alt=\"Open In Colab\"/></a>"
      ]
    },
    {
      "cell_type": "code",
      "execution_count": 4,
      "metadata": {
        "colab": {
          "base_uri": "https://localhost:8080/"
        },
        "id": "TFNT1OP6ULL9",
        "outputId": "e76dcf78-3560-4acc-9c11-b2623cf34ddd"
      },
      "outputs": [
        {
          "output_type": "stream",
          "name": "stdout",
          "text": [
            "Ingrese una semilla:7990\n",
            "63840100\n",
            "63840100\n"
          ]
        }
      ],
      "source": [
        "Semilla = int(input(\"Ingrese una semilla:\"))\n",
        "SemCuad = Semilla**2\n",
        "print(SemCuad)\n",
        "SemCuadText = str(SemCuad)\n",
        "SemCuadText = SemCuadText.zfill(8)\n",
        "print(SemCuadText)\n"
      ]
    },
    {
      "cell_type": "code",
      "source": [
        "from posixpath import split\n",
        "# Página de donde se vio la forma de obtener los caracteres de una cadena: https://www.freecodecamp.org/espanol/news/sustraer-una-cadena-caracteres-en-python/\n",
        "Semilla = int(input(\"Ingrese una semilla:\"))\n",
        "for i in range(51):\n",
        "  SemCuad = Semilla**2\n",
        "  SemiCom = str(Semilla).zfill(4)\n",
        "  SemCuadText = str(SemCuad)\n",
        "  SemCuadText = SemCuadText.zfill(8)\n",
        "  print(SemiCom,SemCuadText)\n",
        "  SemNueva = SemCuadText[2:6]\n",
        "  Semilla =int(SemNueva)"
      ],
      "metadata": {
        "colab": {
          "base_uri": "https://localhost:8080/"
        },
        "id": "7xv00SunWK4Z",
        "outputId": "226e7449-0c87-462a-9c86-474d513f2ec4"
      },
      "execution_count": 14,
      "outputs": [
        {
          "output_type": "stream",
          "name": "stdout",
          "text": [
            "Ingrese una semilla:9193\n",
            "9193 84511249\n",
            "5112 26132544\n",
            "1325 01755625\n",
            "7556 57093136\n",
            "0931 00866761\n",
            "8667 75116889\n",
            "1168 01364224\n",
            "3642 13264164\n",
            "2641 06974881\n",
            "9748 95023504\n",
            "0235 00055225\n",
            "0552 00304704\n",
            "3047 09284209\n",
            "2842 08076964\n",
            "0769 00591361\n",
            "5913 34963569\n",
            "9635 92833225\n",
            "8332 69422224\n",
            "4222 17825284\n",
            "8252 68095504\n",
            "0955 00912025\n",
            "9120 83174400\n",
            "1744 03041536\n",
            "0415 00172225\n",
            "1722 02965284\n",
            "9652 93161104\n",
            "1611 02595321\n",
            "5953 35438209\n",
            "4382 19201924\n",
            "2019 04076361\n",
            "0763 00582169\n",
            "5821 33884041\n",
            "8840 78145600\n",
            "1456 02119936\n",
            "1199 01437601\n",
            "4376 19149376\n",
            "1493 02229049\n",
            "2290 05244100\n",
            "2441 05958481\n",
            "9584 91853056\n",
            "8530 72760900\n",
            "7609 57896881\n",
            "8968 80425024\n",
            "4250 18062500\n",
            "0625 00390625\n",
            "3906 15256836\n",
            "2568 06594624\n",
            "5946 35354916\n",
            "3549 12595401\n",
            "5954 35450116\n",
            "4501 20259001\n"
          ]
        }
      ]
    },
    {
      "cell_type": "code",
      "source": [],
      "metadata": {
        "id": "7jXttw0tYoi7"
      },
      "execution_count": null,
      "outputs": []
    }
  ]
}